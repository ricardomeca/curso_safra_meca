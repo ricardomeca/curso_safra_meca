{
 "cells": [
  {
   "cell_type": "code",
   "execution_count": 1,
   "id": "d85e8890",
   "metadata": {},
   "outputs": [
    {
     "name": "stdout",
     "output_type": "stream",
     "text": [
      "Vamos aprender git após estudar muitas horas.\n"
     ]
    }
   ],
   "source": [
    "print('Vamos aprender git após estudar muitas horas.')"
   ]
  },
  {
   "cell_type": "code",
   "execution_count": null,
   "id": "2f612c09",
   "metadata": {},
   "outputs": [],
   "source": []
  }
 ],
 "metadata": {
  "kernelspec": {
   "display_name": "Python 3 (ipykernel)",
   "language": "python",
   "name": "python3"
  },
  "language_info": {
   "codemirror_mode": {
    "name": "ipython",
    "version": 3
   },
   "file_extension": ".py",
   "mimetype": "text/x-python",
   "name": "python",
   "nbconvert_exporter": "python",
   "pygments_lexer": "ipython3",
   "version": "3.9.7"
  }
 },
 "nbformat": 4,
 "nbformat_minor": 5
}
